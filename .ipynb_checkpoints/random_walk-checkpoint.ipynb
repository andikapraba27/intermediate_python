{
 "cells": [
  {
   "cell_type": "markdown",
   "metadata": {},
   "source": [
    "# Play with Dice"
   ]
  },
  {
   "cell_type": "markdown",
   "metadata": {},
   "source": [
    "In this lesson, we will learn about randomization in python using dice as the object. First, we will try to throw the dice first, using random function from numpy. "
   ]
  },
  {
   "cell_type": "code",
   "execution_count": null,
   "metadata": {},
   "outputs": [],
   "source": [
    "import numpy as np\n",
    "#throw your first dice\n",
    "np.random.seed(123)\n",
    "print('first throw : ' + str(np.random.randint(1,7)))"
   ]
  },
  {
   "cell_type": "markdown",
   "metadata": {},
   "source": [
    "Dice will be used in bet that we can get to the 60th floor in 100 times dice roll in Empire State Building. The rules are if we get 1 and 2 in the dice, we will move one floor down, if we get dice numbers of 3 until 5 we will move one floor up, if we get six in the dice, the next roll will be the number of floor we will go up. We can't go below 0. In the first condition, you already in 50th floor. The bottom code will experiment the first roll. "
   ]
  },
  {
   "cell_type": "code",
   "execution_count": null,
   "metadata": {},
   "outputs": [],
   "source": [
    "np.random.seed(123)\n",
    "#initial step\n",
    "step =50\n",
    "#roll the dice\n",
    "dice = np.random.randint(1,7)\n",
    "#condition\n",
    "if dice <=2 :\n",
    "    step = step - 1\n",
    "elif dice <=5 :\n",
    "    step = step + 1\n",
    "else :\n",
    "    step = step + np.random.randint(1,7)\n",
    "\n",
    "print(dice)\n",
    "print(step)"
   ]
  },
  {
   "cell_type": "code",
   "execution_count": null,
   "metadata": {},
   "outputs": [],
   "source": []
  }
 ],
 "metadata": {
  "kernelspec": {
   "display_name": "Python 3",
   "language": "python",
   "name": "python3"
  },
  "language_info": {
   "codemirror_mode": {
    "name": "ipython",
    "version": 3
   },
   "file_extension": ".py",
   "mimetype": "text/x-python",
   "name": "python",
   "nbconvert_exporter": "python",
   "pygments_lexer": "ipython3",
   "version": "3.6.5"
  }
 },
 "nbformat": 4,
 "nbformat_minor": 2
}
